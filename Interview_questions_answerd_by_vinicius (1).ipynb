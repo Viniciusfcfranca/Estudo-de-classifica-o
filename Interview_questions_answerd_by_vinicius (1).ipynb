{
 "cells": [
  {
   "cell_type": "markdown",
   "metadata": {},
   "source": [
    "# 1) Given the following function"
   ]
  },
  {
   "cell_type": "markdown",
   "metadata": {},
   "source": [
    "$ f(x,t) = e^{−𝜔𝑡^2}cos\\frac{n𝜋x}{L} $\n"
   ]
  },
  {
   "cell_type": "markdown",
   "metadata": {},
   "source": [
    "### Find the following partial derivatives"
   ]
  },
  {
   "cell_type": "markdown",
   "metadata": {},
   "source": [
    "a) $\\frac{df}{dx}$\n",
    "\n",
    "\n",
    "b) $\\frac{df}{dt}$"
   ]
  },
  {
   "cell_type": "markdown",
   "metadata": {},
   "source": [
    "## Answer\n",
    "\n",
    "a) $\\frac{df}{dx} = \\frac{e^{-𝜔t^2}}{dx} * \\frac{cos\\frac{n𝜋x}{L}}{dx} + \\frac{e^{-𝜔t^2}*cos\\frac{n𝜋x}{L}}{dx}$\n"
   ]
  },
  {
   "cell_type": "markdown",
   "metadata": {},
   "source": [
    " $\\frac{df}{dx} = 0 + e^{-𝜔t^2} * \\frac{d cos\\frac{n𝜋x}{L}}{dx}$"
   ]
  },
  {
   "cell_type": "markdown",
   "metadata": {},
   "source": [
    " $\\frac{df}{dx} = e^{𝜔t^2}*-sen\\frac{n𝜋x}{L}*\\frac{n𝜋}{L}$"
   ]
  },
  {
   "cell_type": "markdown",
   "metadata": {},
   "source": [
    "$\\frac{df}{dx}=\\frac{-e^{-𝜔t^2}*sen\\frac{n𝜋x}{L}*n𝜋}{L}$"
   ]
  },
  {
   "cell_type": "markdown",
   "metadata": {},
   "source": [
    "b) $\\frac{df}{dt} = \\frac{de^{-𝜔t^2}}{dt} * cos\\frac{n𝜋x}{L}+e^{-𝜔t^2}*0$"
   ]
  },
  {
   "cell_type": "markdown",
   "metadata": {},
   "source": [
    "$\\frac{df}{dt} = e^{-𝜔t^2}*2T𝜔*cos\\frac{n𝜋x}{L}$"
   ]
  },
  {
   "cell_type": "markdown",
   "metadata": {},
   "source": [
    "# 2) Give an example of a vector space (with a basis)"
   ]
  },
  {
   "cell_type": "markdown",
   "metadata": {},
   "source": [
    "## Answer\n",
    "\n",
    "We're going to work with the following vector space: $\\begin{bmatrix} 2 \\\\ 0 \\\\ 0 \\end{bmatrix}, \\begin{bmatrix} 6 \\\\ 4 \\\\ 0 \\end{bmatrix} , \\begin{bmatrix} 0 \\\\ 0 \\\\ 2 \\end{bmatrix}$"
   ]
  },
  {
   "cell_type": "markdown",
   "metadata": {},
   "source": [
    "So, at first we're going to check if these vectors are independent..."
   ]
  },
  {
   "cell_type": "markdown",
   "metadata": {},
   "source": [
    "$ C1\\begin{bmatrix} 2\\\\0\\\\0 \\end{bmatrix} + C2\\begin{bmatrix} 6\\\\4\\\\0\\end{bmatrix} + C3\\begin{bmatrix} 0\\\\0\\\\2 \\end{bmatrix}$"
   ]
  },
  {
   "cell_type": "markdown",
   "metadata": {},
   "source": [
    "$\\begin{bmatrix} 2C1,6C2,0 \\\\ 0,4C2,0 \\\\ 0,0,2C3 \\end{bmatrix} = \\begin{bmatrix} 0\\\\0\\\\0 \\end{bmatrix}$"
   ]
  },
  {
   "cell_type": "markdown",
   "metadata": {},
   "source": [
    "$ 4C2 = 0$"
   ]
  },
  {
   "cell_type": "markdown",
   "metadata": {},
   "source": [
    "$ C2 = \\frac{0}{4} $ "
   ]
  },
  {
   "cell_type": "markdown",
   "metadata": {},
   "source": [
    "$ C2 = 0$"
   ]
  },
  {
   "cell_type": "markdown",
   "metadata": {},
   "source": [
    "$ 2C1 + 6C2 + 0 = 0$"
   ]
  },
  {
   "cell_type": "markdown",
   "metadata": {},
   "source": [
    "$ 2C1 + 6*0 + 0 = 0 $"
   ]
  },
  {
   "cell_type": "markdown",
   "metadata": {},
   "source": [
    "$C1 = \\frac{6*0+0}{2}$"
   ]
  },
  {
   "cell_type": "markdown",
   "metadata": {},
   "source": [
    "$C1 = 0$"
   ]
  },
  {
   "cell_type": "markdown",
   "metadata": {},
   "source": [
    "$2C3 = 0 $"
   ]
  },
  {
   "cell_type": "markdown",
   "metadata": {},
   "source": [
    "$C3=\\frac{0}{2}$"
   ]
  },
  {
   "cell_type": "markdown",
   "metadata": {},
   "source": [
    "$ C3 = 0$"
   ]
  },
  {
   "cell_type": "markdown",
   "metadata": {},
   "source": [
    "As we've checked these vectors are independent, so in conclusion to see if they are also basis we're going to look over if is possible to make a 3-Dimensional vector with the equation given by the vectors:"
   ]
  },
  {
   "cell_type": "markdown",
   "metadata": {},
   "source": [
    "$\\begin{bmatrix} X\\\\Y\\\\Z \\end{bmatrix} = a\\begin{bmatrix} 2\\\\0\\\\0 \\end{bmatrix} + b\\begin{bmatrix} 6\\\\4\\\\0 \\end{bmatrix} + c\\begin{bmatrix} 0\\\\0\\\\2 \\end{bmatrix} $"
   ]
  },
  {
   "cell_type": "markdown",
   "metadata": {},
   "source": [
    "$ \\begin{bmatrix} X\\\\Y\\\\Z \\end{bmatrix} = \\begin{bmatrix} 2a\\\\0\\\\0 \\end{bmatrix} + \\begin{bmatrix} 6b\\\\4b\\\\0 \\end{bmatrix} + \\begin{bmatrix} 0\\\\0\\\\c2 \\end{bmatrix} $ "
   ]
  },
  {
   "cell_type": "markdown",
   "metadata": {},
   "source": [
    "$\\begin{bmatrix} X\\\\Y\\\\z \\end{bmatrix} = \\begin{bmatrix} 2a+6b\\\\4b\\\\2c \\end{bmatrix}$"
   ]
  },
  {
   "cell_type": "markdown",
   "metadata": {},
   "source": [
    "What lead us to find..."
   ]
  },
  {
   "cell_type": "markdown",
   "metadata": {},
   "source": [
    "$2c = Z$"
   ]
  },
  {
   "cell_type": "markdown",
   "metadata": {},
   "source": [
    " $ c=\\frac{Z}{2} $"
   ]
  },
  {
   "cell_type": "markdown",
   "metadata": {},
   "source": [
    "$Y = 4b$"
   ]
  },
  {
   "cell_type": "markdown",
   "metadata": {},
   "source": [
    "$b=\\frac{Y}{4}$"
   ]
  },
  {
   "cell_type": "markdown",
   "metadata": {},
   "source": [
    "$2a+6b=X$"
   ]
  },
  {
   "cell_type": "markdown",
   "metadata": {},
   "source": [
    "$2a+\\frac{6Y}{4} = x $"
   ]
  },
  {
   "cell_type": "markdown",
   "metadata": {},
   "source": [
    "$ a = \\frac{X-\\frac{6Y}{4}}{2} $"
   ]
  },
  {
   "cell_type": "markdown",
   "metadata": {},
   "source": [
    "So..."
   ]
  },
  {
   "cell_type": "markdown",
   "metadata": {},
   "source": [
    "$ \\begin{bmatrix} X\\\\Y\\\\Z \\end{bmatrix} = \\frac{x-\\frac{6Y}{4}}{2}\\begin{bmatrix}2\\\\0\\\\0 \\end{bmatrix} + \\frac{Y}{4}\\begin{bmatrix}6\\\\4\\\\0 \\end{bmatrix} + \\frac{Z}{2}\\begin{bmatrix} 0\\\\0\\\\2 \\end{bmatrix} $"
   ]
  },
  {
   "cell_type": "markdown",
   "metadata": {},
   "source": [
    "We're going to test this equation with the following vector: $\\begin{bmatrix} 8\\\\4\\\\6 \\end{bmatrix}$"
   ]
  },
  {
   "cell_type": "markdown",
   "metadata": {},
   "source": [
    "$ \\begin{bmatrix} 8\\\\4\\\\6 \\end{bmatrix} = \\frac{8-\\frac{6*4}{4}}{2}\\begin{bmatrix} 2\\\\0\\\\0 \\end{bmatrix} + \\frac{4}{4} \\begin{bmatrix} 6\\\\4\\\\0 \\end{bmatrix} + \\frac{6}{2} \\begin{bmatrix} 0\\\\0\\\\2 \\end{bmatrix} $"
   ]
  },
  {
   "cell_type": "markdown",
   "metadata": {},
   "source": [
    "$\\begin{bmatrix} 8\\\\4\\\\6 \\end{bmatrix} = \\begin{bmatrix} 2\\\\0\\\\0 \\end{bmatrix} + \\begin{bmatrix} 6\\\\4\\\\0 \\end{bmatrix} + 3\\begin{bmatrix}0\\\\0\\\\2 \\end{bmatrix} $"
   ]
  },
  {
   "cell_type": "markdown",
   "metadata": {},
   "source": [
    "$\\begin{bmatrix} 8\\\\4\\\\0 \\end{bmatrix} = \\begin{bmatrix} 8\\\\4\\\\0 \\end{bmatrix} $"
   ]
  },
  {
   "cell_type": "markdown",
   "metadata": {},
   "source": [
    "These vectors are basis."
   ]
  },
  {
   "cell_type": "markdown",
   "metadata": {},
   "source": [
    "# 3) Find the inverse for the matrix: \n",
    "## $$ A = \\begin{bmatrix} a,b\\\\c,d  \\end{bmatrix} $$"
   ]
  },
  {
   "cell_type": "markdown",
   "metadata": {},
   "source": [
    "## Answer:\n",
    "$ \\begin{bmatrix} a,b\\\\c,d \\end{bmatrix}^{-1} = \\frac{1}{ad-bc}\\begin{bmatrix} d,-b\\\\-c,a\\end{bmatrix} $"
   ]
  },
  {
   "cell_type": "markdown",
   "metadata": {},
   "source": [
    "\n",
    "$ \\begin{bmatrix} a,b\\\\c,d \\end{bmatrix}^{-1} = \\begin{bmatrix}\\frac{1}{ad-bc}d,-\\frac{1}{ad-bc}b \\\\ -\\frac{1}{ad-bc}c, \\frac{1}{ad-bc}a \\end{bmatrix}$"
   ]
  },
  {
   "cell_type": "markdown",
   "metadata": {},
   "source": [
    "# 4) Give a definition and an example of a supervised learning algorithm"
   ]
  },
  {
   "cell_type": "markdown",
   "metadata": {},
   "source": [
    "## Answer"
   ]
  },
  {
   "cell_type": "markdown",
   "metadata": {},
   "source": [
    "Supervised learning algorithms are algorithms that needs a training dataset to be able to learn, they use the inputed dataset to create new functions based on the given data. It is as if the computer was a student and the provided data a teacher. As an example we can use the decision trees that are models often used both in regression and classification problematics. It usually has a \"goal\" variable to guide the algorithm."
   ]
  },
  {
   "cell_type": "markdown",
   "metadata": {},
   "source": [
    "## Example of use\n",
    "Let´s imagine we want to test using a cross validation diverse instances of random forest "
   ]
  },
  {
   "cell_type": "code",
   "execution_count": 5,
   "metadata": {},
   "outputs": [],
   "source": [
    "import pandas as pd\n",
    "import numpy as np\n",
    "import matplotlib.pyplot as plt\n",
    "from sklearn.datasets import load_diabetes\n",
    "from sklearn.model_selection import train_test_split\n",
    "from sklearn.ensemble import RandomForestRegressor\n",
    "from sklearn.model_selection import cross_val_score"
   ]
  },
  {
   "cell_type": "code",
   "execution_count": 2,
   "metadata": {},
   "outputs": [
    {
     "name": "stdout",
     "output_type": "stream",
     "text": [
      "(331, 10) (111, 10) (331,) (111,)\n"
     ]
    }
   ],
   "source": [
    "X, y = load_diabetes().data, load_diabetes().target\n",
    "Xtrain, Xtest, ytrain, ytest = train_test_split(X, y, test_size = 0.25, random_state = 42)\n",
    "print(Xtrain.shape, Xtest.shape, ytrain.shape, ytest.shape)"
   ]
  },
  {
   "cell_type": "code",
   "execution_count": 6,
   "metadata": {},
   "outputs": [],
   "source": [
    "from sklearn.model_selection import GridSearchCV\n",
    "estimator = RandomForestRegressor()\n",
    "\n",
    "params_RF = {\"n_estimators\":[10,1000], \"max_depth\":[2,10]}"
   ]
  },
  {
   "cell_type": "code",
   "execution_count": 7,
   "metadata": {},
   "outputs": [
    {
     "data": {
      "text/plain": [
       "GridSearchCV(cv=3, estimator=RandomForestRegressor(),\n",
       "             param_grid={'max_depth': [2, 10], 'n_estimators': [10, 1000]},\n",
       "             scoring='r2')"
      ]
     },
     "execution_count": 7,
     "metadata": {},
     "output_type": "execute_result"
    }
   ],
   "source": [
    "grid = GridSearchCV(estimator = estimator, \n",
    "                    param_grid = params_RF, \n",
    "                    scoring = 'r2', \n",
    "                    cv = 3)\n",
    "\n",
    "grid"
   ]
  },
  {
   "cell_type": "code",
   "execution_count": 8,
   "metadata": {},
   "outputs": [
    {
     "data": {
      "text/plain": [
       "GridSearchCV(cv=3, estimator=RandomForestRegressor(),\n",
       "             param_grid={'max_depth': [2, 10], 'n_estimators': [10, 1000]},\n",
       "             scoring='r2')"
      ]
     },
     "execution_count": 8,
     "metadata": {},
     "output_type": "execute_result"
    }
   ],
   "source": [
    "grid.fit(Xtrain, ytrain)"
   ]
  },
  {
   "cell_type": "code",
   "execution_count": 9,
   "metadata": {},
   "outputs": [
    {
     "data": {
      "text/plain": [
       "{'max_depth': 10, 'n_estimators': 1000}"
      ]
     },
     "execution_count": 9,
     "metadata": {},
     "output_type": "execute_result"
    }
   ],
   "source": [
    "grid.best_params_"
   ]
  },
  {
   "cell_type": "code",
   "execution_count": 10,
   "metadata": {},
   "outputs": [
    {
     "data": {
      "text/plain": [
       "0.42271837645794735"
      ]
     },
     "execution_count": 10,
     "metadata": {},
     "output_type": "execute_result"
    }
   ],
   "source": [
    "grid.best_score_"
   ]
  },
  {
   "cell_type": "code",
   "execution_count": 11,
   "metadata": {},
   "outputs": [
    {
     "data": {
      "text/plain": [
       "RandomForestRegressor(max_depth=10, n_estimators=1000)"
      ]
     },
     "execution_count": 11,
     "metadata": {},
     "output_type": "execute_result"
    }
   ],
   "source": [
    "grid.best_estimator_"
   ]
  },
  {
   "cell_type": "code",
   "execution_count": 12,
   "metadata": {},
   "outputs": [
    {
     "data": {
      "text/plain": [
       "{'mean_fit_time': array([0.02801887, 2.27017657, 0.02968701, 3.05736748]),\n",
       " 'std_fit_time': array([0.00920793, 0.21108388, 0.0012483 , 0.21879423]),\n",
       " 'mean_score_time': array([0.00333571, 0.12241515, 0.00200113, 0.11974645]),\n",
       " 'std_score_time': array([1.24865823e-03, 4.99327280e-03, 2.24783192e-07, 4.71034627e-04]),\n",
       " 'param_max_depth': masked_array(data=[2, 2, 10, 10],\n",
       "              mask=[False, False, False, False],\n",
       "        fill_value='?',\n",
       "             dtype=object),\n",
       " 'param_n_estimators': masked_array(data=[10, 1000, 10, 1000],\n",
       "              mask=[False, False, False, False],\n",
       "        fill_value='?',\n",
       "             dtype=object),\n",
       " 'params': [{'max_depth': 2, 'n_estimators': 10},\n",
       "  {'max_depth': 2, 'n_estimators': 1000},\n",
       "  {'max_depth': 10, 'n_estimators': 10},\n",
       "  {'max_depth': 10, 'n_estimators': 1000}],\n",
       " 'split0_test_score': array([0.33939564, 0.35608471, 0.24878954, 0.37081096]),\n",
       " 'split1_test_score': array([0.42782714, 0.44641996, 0.37848277, 0.4473489 ]),\n",
       " 'split2_test_score': array([0.40681228, 0.42592962, 0.38852397, 0.44999527]),\n",
       " 'mean_test_score': array([0.39134502, 0.40947809, 0.33859876, 0.42271838]),\n",
       " 'std_test_score': array([0.03772232, 0.03867044, 0.06363688, 0.03671999]),\n",
       " 'rank_test_score': array([3, 2, 4, 1])}"
      ]
     },
     "execution_count": 12,
     "metadata": {},
     "output_type": "execute_result"
    }
   ],
   "source": [
    "grid.cv_results_"
   ]
  },
  {
   "cell_type": "markdown",
   "metadata": {},
   "source": [
    "# 5)  Give a definition and an example of a unsupervised learning algorithm"
   ]
  },
  {
   "cell_type": "markdown",
   "metadata": {},
   "source": [
    "## Answer\n",
    "\n"
   ]
  },
  {
   "cell_type": "markdown",
   "metadata": {},
   "source": [
    "Basically,if a superviser learning algorithm is \"learning with a teacher\" the unsupervised learning algorithm is learning without a teacher. One of the goals of the unsupervised learning algorithm is to show the hidden structure of non labeled data and one basic task that you can do with this kind of algorithm is to use it to visualization, and a good example of this kind of algorithm are the clustering algorithms such as the K-means. "
   ]
  },
  {
   "cell_type": "markdown",
   "metadata": {},
   "source": [
    "## Example of use"
   ]
  },
  {
   "cell_type": "code",
   "execution_count": 15,
   "metadata": {},
   "outputs": [],
   "source": [
    "import pandas as pd\n",
    "import matplotlib.pyplot as plt\n",
    "import numpy as np\n",
    "from sklearn.datasets import make_blobs\n",
    "\n",
    "from sklearn.cluster import KMeans"
   ]
  },
  {
   "cell_type": "code",
   "execution_count": 16,
   "metadata": {},
   "outputs": [
    {
     "data": {
      "text/plain": [
       "(900, 2)"
      ]
     },
     "execution_count": 16,
     "metadata": {},
     "output_type": "execute_result"
    }
   ],
   "source": [
    "X, _ = make_blobs(n_samples=900, centers = [[0,0],[0,3],[1.75,6],[3.5,9]], cluster_std= 0.2, random_state=0)\n",
    "X.shape"
   ]
  },
  {
   "cell_type": "code",
   "execution_count": 18,
   "metadata": {},
   "outputs": [
    {
     "data": {
      "image/png": "[encoded data removed]",
      "text/plain": [
       "<Figure size 576x432 with 1 Axes>"
      ]
     },
     "metadata": {
      "needs_background": "light"
     },
     "output_type": "display_data"
    }
   ],
   "source": [
    "plt.figure(figsize=[8,6])\n",
    "plt.scatter(X[:,0],X[:,1])\n",
    "plt.show()\n"
   ]
  },
  {
   "cell_type": "code",
   "execution_count": 19,
   "metadata": {},
   "outputs": [
    {
     "data": {
      "text/plain": [
       "KMeans(n_clusters=4)"
      ]
     },
     "execution_count": 19,
     "metadata": {},
     "output_type": "execute_result"
    }
   ],
   "source": [
    "km = KMeans(n_clusters = 4)\n",
    "km"
   ]
  },
  {
   "cell_type": "code",
   "execution_count": 22,
   "metadata": {},
   "outputs": [
    {
     "data": {
      "text/plain": [
       "KMeans(n_clusters=4)"
      ]
     },
     "execution_count": 22,
     "metadata": {},
     "output_type": "execute_result"
    }
   ],
   "source": [
    "km.fit(X)"
   ]
  },
  {
   "cell_type": "code",
   "execution_count": 24,
   "metadata": {},
   "outputs": [
    {
     "data": {
      "text/plain": [
       "array([[ 1.77431257e+00,  5.99915210e+00],\n",
       "       [-1.18272180e-02,  3.34371633e-04],\n",
       "       [ 3.48265432e+00,  9.02648593e+00],\n",
       "       [-2.01293042e-02,  2.97682649e+00]])"
      ]
     },
     "execution_count": 24,
     "metadata": {},
     "output_type": "execute_result"
    }
   ],
   "source": [
    "km.cluster_centers_"
   ]
  },
  {
   "cell_type": "code",
   "execution_count": 30,
   "metadata": {},
   "outputs": [
    {
     "data": {
      "image/png": "[encoded data removed]",
      "text/plain": [
       "<Figure size 576x432 with 1 Axes>"
      ]
     },
     "metadata": {
      "needs_background": "light"
     },
     "output_type": "display_data"
    }
   ],
   "source": [
    "plt.figure(figsize=[8,6])\n",
    "plt.scatter(X[:,0],X[:,1])\n",
    "plt.title(\"centers after training with K-means (N_clusters=4)\", fontsize=16, fontweight = 'bold')\n",
    "for centroid in km.cluster_centers_:\n",
    "    plt.scatter(centroid[0], centroid[1], s= 400, marker = 'X', c='black', lw=3)\n",
    "plt.show()"
   ]
  },
  {
   "cell_type": "code",
   "execution_count": 33,
   "metadata": {},
   "outputs": [
    {
     "data": {
      "image/png": "[encoded data removed]",
      "text/plain": [
       "<Figure size 576x432 with 1 Axes>"
      ]
     },
     "metadata": {
      "needs_background": "light"
     },
     "output_type": "display_data"
    }
   ],
   "source": [
    "plt.figure(figsize=[8,6])\n",
    "plt.scatter(X[:,0],X[:,1], c= km.predict(X), cmap=plt.cm.Paired)\n",
    "plt.title(\"Clustering with K-means (N_clusters=4)\", fontsize=16, fontweight = 'bold')\n",
    "for centroid in km.cluster_centers_:\n",
    "    plt.scatter(centroid[0], centroid[1], s= 400, marker = 'X', c='black', lw=3)\n",
    "plt.show()"
   ]
  },
  {
   "cell_type": "markdown",
   "metadata": {},
   "source": [
    "# 6)  Name 3 types of metrics, and their formulas, used in K-Means clustering algorithm\n"
   ]
  },
  {
   "cell_type": "markdown",
   "metadata": {},
   "source": [
    "## Answer"
   ]
  },
  {
   "cell_type": "markdown",
   "metadata": {},
   "source": [
    "### 1st metric:\n",
    "### WCSS\n",
    "The WCSS metric also known as inertia is a metric that helps to find the optimalnumber of clusters and its formulations is:\n",
    "### WCSS = $\\sum_{cluster_k} \\sum_{x_i \\in cluster_{k}} ||x_i - C_k||^{2}$ "
   ]
  },
  {
   "cell_type": "markdown",
   "metadata": {},
   "source": [
    "## 2nd metric:\n",
    "\n",
    "### Silhouet method\n",
    "This method generally is used in data with more defined cluster and its formulation is:\n",
    "\n",
    "### S = $\\frac{b-a}{max(a,b)}$\n",
    "\n",
    "Where:\n",
    "### a\n",
    "Is defined as the mean distance between a sample and all other points in the same class.\n",
    "### b\n",
    "Is the mean distance between a sample and all other points in the next nearest cluster."
   ]
  },
  {
   "cell_type": "markdown",
   "metadata": {},
   "source": [
    "## 3rd metric:\n",
    "### Dunn Index\n",
    "This method is used to help to differentiate as maximun as possible the different clusters and its formulation is:\n",
    "### Dunn Index = $\\frac{Min(Inter Cluster Distance)}{Max(Intra Cluster Distance)}$"
   ]
  },
  {
   "cell_type": "markdown",
   "metadata": {},
   "source": [
    "# 7) Name and describe any algorithm to inverte a Matrix"
   ]
  },
  {
   "cell_type": "markdown",
   "metadata": {},
   "source": [
    "In the package Numpy there is a function: $numpy.linalg.inv(a)$. that invert matrixes, that only takes one parameter that is $(a)$ which is the matrix that we want to invert. \n",
    "\n"
   ]
  },
  {
   "cell_type": "markdown",
   "metadata": {},
   "source": [
    "## Example"
   ]
  },
  {
   "cell_type": "code",
   "execution_count": 34,
   "metadata": {},
   "outputs": [],
   "source": [
    "import numpy as np\n",
    "\n",
    "A = np.array([[6, 1, 1, 3],\n",
    "              [4, -2, 5, 1],\n",
    "              [2, 8, 7, 6],\n",
    "              [3, 1, 9, 7]])"
   ]
  },
  {
   "cell_type": "code",
   "execution_count": 35,
   "metadata": {},
   "outputs": [
    {
     "name": "stdout",
     "output_type": "stream",
     "text": [
      "[[ 0.13368984  0.10695187  0.02139037 -0.09090909]\n",
      " [-0.00229183  0.02673797  0.14820474 -0.12987013]\n",
      " [-0.12987013  0.18181818  0.06493506 -0.02597403]\n",
      " [ 0.11000764 -0.28342246 -0.11382735  0.23376623]]\n"
     ]
    }
   ],
   "source": [
    "B = np.linalg.inv(A)\n",
    "print(B)"
   ]
  },
  {
   "cell_type": "markdown",
   "metadata": {},
   "source": [
    "# 8) Explain what is a logistic regression and give an example of application (describe it as best as you can).\n"
   ]
  },
  {
   "cell_type": "markdown",
   "metadata": {},
   "source": [
    "## Answer\n",
    "\n",
    "Logistic regression is a supervised learning classification algorithm used to predict the probability of a target variable. The nature of the target variable is binary, in other words, it only has two classes. Mathematically, the logistic regression calcules the dependent variable in function of the $X$ variable being one of the simpliests machine learning algorithms but with a huge aplicability being used in several contexts such as illnesses detections. "
   ]
  },
  {
   "cell_type": "markdown",
   "metadata": {},
   "source": [
    "# 9)  Describe in steps how would you perform preliminary analysis on a dataset"
   ]
  },
  {
   "cell_type": "markdown",
   "metadata": {},
   "source": [
    "## Answer\n",
    "\n",
    "At first, I'd import the package Pandas and import the dataset into the jupyter environment, then I would use the function describe to check the stats about the variables. After that, I would use the function is.na to see if there's any missing value on the dataset and then depending of the kind of work that I have to do I see if I'll use the function drop.na to drop the missing values in the dataset ou the function fill.na to fill the missing values with the average of the variable that I'm working. After this I would check the correlation between the variables with the function .corr and then do what I need to do, if necessary do a data normalization or whatever was necessary."
   ]
  },
  {
   "cell_type": "markdown",
   "metadata": {},
   "source": [
    "# 10)  Given the two tables A and B, give the result for the query below\n",
    "\n",
    "| ID | Name | Born_in |\n",
    "| --- | --- | --- |\n",
    "| 9991 | John | Liverpool |\n",
    "| 9992 | Paul | Liverpool |\n",
    "| 9993 | Ringo | Liverpool |\n",
    "| 9994 | George | Liverpool |"
   ]
  },
  {
   "cell_type": "markdown",
   "metadata": {},
   "source": [
    "| ID | Instrument | Football_club |\n",
    "| --- | --- | --- |\n",
    "| 9991 | Vocal | Liverpool |\n",
    "| 9992 | Base | Liverpool |\n",
    "| 9993 | Drums | Liverpool |\n",
    "| 9995 | Guitar | Liverpool |\n",
    "| 9992 | Piano | Liverpool |"
   ]
  },
  {
   "cell_type": "markdown",
   "metadata": {},
   "source": [
    "### SELECT A.ID, A.Name, A.Born_in, B.Instrument, B.Football_Club \n",
    "### From A LEFT JOIN B \n",
    "### ON A.ID = B.ID;"
   ]
  },
  {
   "cell_type": "markdown",
   "metadata": {},
   "source": [
    "## Answer:"
   ]
  },
  {
   "cell_type": "markdown",
   "metadata": {},
   "source": [
    "| ID | Name | Born_in | Instrument | Football_club |\n",
    "| --- | --- | --- | --- | --- |\n",
    "| 9991 | John | Liverpool | Vocal | Liverpool |\n",
    "| 9992 | Paul | Liverpool |Base |Liverpool |\n",
    "| 9992 | Paul | Liverpool |Piano |Liverpool |\n",
    "| 9993 | Ringo | Liverpool | Drums | Liverpool |\n",
    "| 9994 | George | Liverpool | NaN | NaN |\n"
   ]
  }
 ],
 "metadata": {
  "kernelspec": {
   "display_name": "Python 3",
   "language": "python",
   "name": "python3"
  },
  "language_info": {
   "codemirror_mode": {
    "name": "ipython",
    "version": 3
   },
   "file_extension": ".py",
   "mimetype": "text/x-python",
   "name": "python",
   "nbconvert_exporter": "python",
   "pygments_lexer": "ipython3",
   "version": "3.8.5"
  }
 },
 "nbformat": 4,
 "nbformat_minor": 4
}
